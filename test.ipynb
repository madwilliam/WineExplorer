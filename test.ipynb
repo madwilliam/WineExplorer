{
 "cells": [
  {
   "cell_type": "code",
   "execution_count": 2,
   "metadata": {},
   "outputs": [],
   "source": [
    "import pandas as pd\n",
    "import numpy as np\n"
   ]
  },
  {
   "cell_type": "code",
   "execution_count": 3,
   "metadata": {},
   "outputs": [
    {
     "name": "stderr",
     "output_type": "stream",
     "text": [
      "/Users/william/miniconda3/envs/wechat/lib/python3.12/site-packages/openpyxl/styles/stylesheet.py:226: UserWarning: Workbook contains no default style, apply openpyxl's default\n",
      "  warn(\"Workbook contains no default style, apply openpyxl's default\")\n"
     ]
    }
   ],
   "source": [
    "df =pd.read_excel('/Users/william/Downloads/LWINdatabase.xlsx')"
   ]
  },
  {
   "cell_type": "code",
   "execution_count": 8,
   "metadata": {},
   "outputs": [
    {
     "data": {
      "text/html": [
       "<div>\n",
       "<style scoped>\n",
       "    .dataframe tbody tr th:only-of-type {\n",
       "        vertical-align: middle;\n",
       "    }\n",
       "\n",
       "    .dataframe tbody tr th {\n",
       "        vertical-align: top;\n",
       "    }\n",
       "\n",
       "    .dataframe thead th {\n",
       "        text-align: right;\n",
       "    }\n",
       "</style>\n",
       "<table border=\"1\" class=\"dataframe\">\n",
       "  <thead>\n",
       "    <tr style=\"text-align: right;\">\n",
       "      <th></th>\n",
       "      <th>LWIN</th>\n",
       "      <th>STATUS</th>\n",
       "      <th>DISPLAY_NAME</th>\n",
       "      <th>PRODUCER_TITLE</th>\n",
       "      <th>PRODUCER_NAME</th>\n",
       "      <th>WINE</th>\n",
       "      <th>COUNTRY</th>\n",
       "      <th>REGION</th>\n",
       "      <th>SUB_REGION</th>\n",
       "      <th>SITE</th>\n",
       "      <th>...</th>\n",
       "      <th>TYPE</th>\n",
       "      <th>SUB_TYPE</th>\n",
       "      <th>DESIGNATION</th>\n",
       "      <th>CLASSIFICATION</th>\n",
       "      <th>VINTAGE_CONFIG</th>\n",
       "      <th>FIRST_VINTAGE</th>\n",
       "      <th>FINAL_VINTAGE</th>\n",
       "      <th>DATE_ADDED</th>\n",
       "      <th>DATE_UPDATED</th>\n",
       "      <th>REFERENCE</th>\n",
       "    </tr>\n",
       "  </thead>\n",
       "  <tbody>\n",
       "    <tr>\n",
       "      <th>0</th>\n",
       "      <td>1000001</td>\n",
       "      <td>Live</td>\n",
       "      <td>Schieferkopf, Lieu Dit Buehl Riesling</td>\n",
       "      <td>NaN</td>\n",
       "      <td>Schieferkopf</td>\n",
       "      <td>Lieu Dit Buehl Riesling</td>\n",
       "      <td>France</td>\n",
       "      <td>Alsace</td>\n",
       "      <td>NaN</td>\n",
       "      <td>NaN</td>\n",
       "      <td>...</td>\n",
       "      <td>Wine</td>\n",
       "      <td>Still</td>\n",
       "      <td>AOP</td>\n",
       "      <td>NaN</td>\n",
       "      <td>sequential</td>\n",
       "      <td>NaN</td>\n",
       "      <td>NaN</td>\n",
       "      <td>2011-06-08 00:00:00</td>\n",
       "      <td>2024-04-10 14:51:49</td>\n",
       "      <td>NaN</td>\n",
       "    </tr>\n",
       "    <tr>\n",
       "      <th>1</th>\n",
       "      <td>1000014</td>\n",
       "      <td>Live</td>\n",
       "      <td>Schieferkopf, Riesling Grand Cru, Kastelberg</td>\n",
       "      <td>NaN</td>\n",
       "      <td>Schieferkopf</td>\n",
       "      <td>Riesling</td>\n",
       "      <td>France</td>\n",
       "      <td>Alsace</td>\n",
       "      <td>Kastelberg</td>\n",
       "      <td>NaN</td>\n",
       "      <td>...</td>\n",
       "      <td>Wine</td>\n",
       "      <td>Still</td>\n",
       "      <td>AOP</td>\n",
       "      <td>Grand Cru</td>\n",
       "      <td>sequential</td>\n",
       "      <td>NaN</td>\n",
       "      <td>NaN</td>\n",
       "      <td>2019-10-14 18:57:45</td>\n",
       "      <td>2020-11-10 08:18:15</td>\n",
       "      <td>NaN</td>\n",
       "    </tr>\n",
       "    <tr>\n",
       "      <th>2</th>\n",
       "      <td>1000027</td>\n",
       "      <td>Live</td>\n",
       "      <td>Schieferkopf, Pinot Gris</td>\n",
       "      <td>NaN</td>\n",
       "      <td>Schieferkopf</td>\n",
       "      <td>Pinot Gris</td>\n",
       "      <td>France</td>\n",
       "      <td>Alsace</td>\n",
       "      <td>NaN</td>\n",
       "      <td>NaN</td>\n",
       "      <td>...</td>\n",
       "      <td>Wine</td>\n",
       "      <td>Still</td>\n",
       "      <td>AOP</td>\n",
       "      <td>NaN</td>\n",
       "      <td>sequential</td>\n",
       "      <td>NaN</td>\n",
       "      <td>NaN</td>\n",
       "      <td>2011-06-08 00:00:00</td>\n",
       "      <td>2024-02-16 15:23:42</td>\n",
       "      <td>NaN</td>\n",
       "    </tr>\n",
       "    <tr>\n",
       "      <th>3</th>\n",
       "      <td>1000030</td>\n",
       "      <td>Live</td>\n",
       "      <td>Schieferkopf, Riesling Grand Cru, Altenberg de...</td>\n",
       "      <td>NaN</td>\n",
       "      <td>Schieferkopf</td>\n",
       "      <td>Riesling</td>\n",
       "      <td>France</td>\n",
       "      <td>Alsace</td>\n",
       "      <td>Altenberg de Bergheim</td>\n",
       "      <td>NaN</td>\n",
       "      <td>...</td>\n",
       "      <td>Wine</td>\n",
       "      <td>Still</td>\n",
       "      <td>AOP</td>\n",
       "      <td>Grand Cru</td>\n",
       "      <td>sequential</td>\n",
       "      <td>NaN</td>\n",
       "      <td>NaN</td>\n",
       "      <td>2019-10-14 18:19:28</td>\n",
       "      <td>2024-04-30 14:45:29</td>\n",
       "      <td>NaN</td>\n",
       "    </tr>\n",
       "    <tr>\n",
       "      <th>4</th>\n",
       "      <td>1000043</td>\n",
       "      <td>Live</td>\n",
       "      <td>Schieferkopf, Sylvaner</td>\n",
       "      <td>NaN</td>\n",
       "      <td>Schieferkopf</td>\n",
       "      <td>Sylvaner</td>\n",
       "      <td>France</td>\n",
       "      <td>Alsace</td>\n",
       "      <td>NaN</td>\n",
       "      <td>NaN</td>\n",
       "      <td>...</td>\n",
       "      <td>Wine</td>\n",
       "      <td>Still</td>\n",
       "      <td>AOP</td>\n",
       "      <td>NaN</td>\n",
       "      <td>sequential</td>\n",
       "      <td>NaN</td>\n",
       "      <td>NaN</td>\n",
       "      <td>2011-06-08 00:00:00</td>\n",
       "      <td>2022-11-17 18:59:37</td>\n",
       "      <td>NaN</td>\n",
       "    </tr>\n",
       "  </tbody>\n",
       "</table>\n",
       "<p>5 rows × 22 columns</p>\n",
       "</div>"
      ],
      "text/plain": [
       "      LWIN STATUS                                       DISPLAY_NAME  \\\n",
       "0  1000001   Live              Schieferkopf, Lieu Dit Buehl Riesling   \n",
       "1  1000014   Live       Schieferkopf, Riesling Grand Cru, Kastelberg   \n",
       "2  1000027   Live                           Schieferkopf, Pinot Gris   \n",
       "3  1000030   Live  Schieferkopf, Riesling Grand Cru, Altenberg de...   \n",
       "4  1000043   Live                             Schieferkopf, Sylvaner   \n",
       "\n",
       "  PRODUCER_TITLE PRODUCER_NAME                     WINE COUNTRY  REGION  \\\n",
       "0            NaN  Schieferkopf  Lieu Dit Buehl Riesling  France  Alsace   \n",
       "1            NaN  Schieferkopf                 Riesling  France  Alsace   \n",
       "2            NaN  Schieferkopf               Pinot Gris  France  Alsace   \n",
       "3            NaN  Schieferkopf                 Riesling  France  Alsace   \n",
       "4            NaN  Schieferkopf                 Sylvaner  France  Alsace   \n",
       "\n",
       "              SUB_REGION SITE  ...  TYPE SUB_TYPE DESIGNATION CLASSIFICATION  \\\n",
       "0                    NaN  NaN  ...  Wine    Still         AOP            NaN   \n",
       "1             Kastelberg  NaN  ...  Wine    Still         AOP      Grand Cru   \n",
       "2                    NaN  NaN  ...  Wine    Still         AOP            NaN   \n",
       "3  Altenberg de Bergheim  NaN  ...  Wine    Still         AOP      Grand Cru   \n",
       "4                    NaN  NaN  ...  Wine    Still         AOP            NaN   \n",
       "\n",
       "  VINTAGE_CONFIG FIRST_VINTAGE FINAL_VINTAGE          DATE_ADDED  \\\n",
       "0     sequential           NaN           NaN 2011-06-08 00:00:00   \n",
       "1     sequential           NaN           NaN 2019-10-14 18:57:45   \n",
       "2     sequential           NaN           NaN 2011-06-08 00:00:00   \n",
       "3     sequential           NaN           NaN 2019-10-14 18:19:28   \n",
       "4     sequential           NaN           NaN 2011-06-08 00:00:00   \n",
       "\n",
       "         DATE_UPDATED REFERENCE  \n",
       "0 2024-04-10 14:51:49       NaN  \n",
       "1 2020-11-10 08:18:15       NaN  \n",
       "2 2024-02-16 15:23:42       NaN  \n",
       "3 2024-04-30 14:45:29       NaN  \n",
       "4 2022-11-17 18:59:37       NaN  \n",
       "\n",
       "[5 rows x 22 columns]"
      ]
     },
     "execution_count": 8,
     "metadata": {},
     "output_type": "execute_result"
    }
   ],
   "source": [
    "df.head()"
   ]
  },
  {
   "cell_type": "code",
   "execution_count": 37,
   "metadata": {},
   "outputs": [
    {
     "data": {
      "text/plain": [
       "Index(['LWIN', 'STATUS', 'DISPLAY_NAME', 'PRODUCER_TITLE', 'PRODUCER_NAME',\n",
       "       'WINE', 'COUNTRY', 'REGION', 'SUB_REGION', 'SITE', 'PARCEL', 'COLOUR',\n",
       "       'TYPE', 'SUB_TYPE', 'DESIGNATION', 'CLASSIFICATION', 'VINTAGE_CONFIG',\n",
       "       'FIRST_VINTAGE', 'FINAL_VINTAGE', 'DATE_ADDED', 'DATE_UPDATED',\n",
       "       'REFERENCE'],\n",
       "      dtype='object')"
      ]
     },
     "execution_count": 37,
     "metadata": {},
     "output_type": "execute_result"
    }
   ],
   "source": [
    "df.columns"
   ]
  },
  {
   "cell_type": "code",
   "execution_count": 4,
   "metadata": {},
   "outputs": [
    {
     "data": {
      "text/plain": [
       "<Axes: >"
      ]
     },
     "execution_count": 4,
     "metadata": {},
     "output_type": "execute_result"
    }
   ],
   "source": [
    "france_wine = df[df['COUNTRY']=='France']\n",
    "france_wine['WINE'].hist()"
   ]
  },
  {
   "cell_type": "code",
   "execution_count": 39,
   "metadata": {},
   "outputs": [
    {
     "data": {
      "text/plain": [
       "LWIN                                            1000001\n",
       "STATUS                                             Live\n",
       "DISPLAY_NAME      Schieferkopf, Lieu Dit Buehl Riesling\n",
       "PRODUCER_TITLE                                      NaN\n",
       "PRODUCER_NAME                              Schieferkopf\n",
       "WINE                            Lieu Dit Buehl Riesling\n",
       "COUNTRY                                          France\n",
       "REGION                                           Alsace\n",
       "SUB_REGION                                          NaN\n",
       "SITE                                                NaN\n",
       "PARCEL                                              NaN\n",
       "COLOUR                                            White\n",
       "TYPE                                               Wine\n",
       "SUB_TYPE                                          Still\n",
       "DESIGNATION                                         AOP\n",
       "CLASSIFICATION                                      NaN\n",
       "VINTAGE_CONFIG                               sequential\n",
       "FIRST_VINTAGE                                       NaN\n",
       "FINAL_VINTAGE                                       NaN\n",
       "DATE_ADDED                          2011-06-08 00:00:00\n",
       "DATE_UPDATED                        2024-04-10 14:51:49\n",
       "REFERENCE                                           NaN\n",
       "Name: 0, dtype: object"
      ]
     },
     "execution_count": 39,
     "metadata": {},
     "output_type": "execute_result"
    }
   ],
   "source": [
    "df.iloc[0]"
   ]
  },
  {
   "cell_type": "code",
   "execution_count": 24,
   "metadata": {},
   "outputs": [],
   "source": [
    "import numpy as np"
   ]
  },
  {
   "cell_type": "code",
   "execution_count": 31,
   "metadata": {},
   "outputs": [
    {
     "data": {
      "text/plain": [
       "64070"
      ]
     },
     "execution_count": 31,
     "metadata": {},
     "output_type": "execute_result"
    }
   ],
   "source": [
    "countryi='France'\n",
    "sum(df['COUNTRY']==countryi)"
   ]
  },
  {
   "cell_type": "code",
   "execution_count": 36,
   "metadata": {},
   "outputs": [
    {
     "data": {
      "text/plain": [
       "0                 France\n",
       "1                 France\n",
       "2                 France\n",
       "3                 France\n",
       "4                 France\n",
       "               ...      \n",
       "203106           Ireland\n",
       "203107    United Kingdom\n",
       "203108    United Kingdom\n",
       "203109    United Kingdom\n",
       "203110            France\n",
       "Name: COUNTRY, Length: 203111, dtype: object"
      ]
     },
     "execution_count": 36,
     "metadata": {},
     "output_type": "execute_result"
    }
   ],
   "source": [
    "df['COUNTRY']"
   ]
  },
  {
   "cell_type": "code",
   "execution_count": 32,
   "metadata": {},
   "outputs": [],
   "source": [
    "all_countries = df['COUNTRY'].unique()\n",
    "number_of_wines = {}\n",
    "for countryi in all_countries:\n",
    "    is_from_this_country = df['COUNTRY']==countryi\n",
    "    n_wine = sum(is_from_this_country)\n",
    "    number_of_wines[countryi]=n_wine\n"
   ]
  },
  {
   "cell_type": "code",
   "execution_count": 34,
   "metadata": {},
   "outputs": [
    {
     "name": "stdout",
     "output_type": "stream",
     "text": [
      "France 64070\n",
      "nan 0\n",
      "Argentina 4432\n",
      "Australia 11682\n",
      "United States 35634\n",
      "Chile 3675\n",
      "Italy 23775\n",
      "Germany 8477\n",
      "Hungary 405\n",
      "Spain 8815\n",
      "Lebanon 288\n",
      "New Zealand 4048\n",
      "Portugal 4882\n",
      "South Africa 5055\n",
      "United Kingdom 11003\n",
      "Mexico 1014\n",
      "Austria 3999\n",
      "Israel 231\n",
      "Japan 1392\n",
      "Canada 3329\n",
      "Greece 548\n",
      "Switzerland 808\n",
      "Uruguay 67\n",
      "Turkey 18\n",
      "Brazil 48\n",
      "Slovenia 364\n",
      "Czech Republic 27\n",
      "Luxembourg 904\n",
      "Georgia 209\n",
      "Moldova 207\n",
      "Bulgaria 79\n",
      "Ukraine 79\n",
      "Cyprus 12\n",
      "Romania 52\n",
      "Denmark 162\n",
      "Ireland 258\n",
      "Barbados 132\n",
      "China 187\n",
      "Croatia 166\n",
      "Poland 41\n",
      "Saint Lucia 17\n",
      "Morocco 33\n",
      "Venezuela 20\n",
      "Cuba 25\n",
      "Colombia 27\n",
      "Syria 2\n",
      "Hong Kong 9\n",
      "Trinidad and Tobago 130\n",
      "North Macedonia 23\n",
      "Thailand 7\n",
      "Anguilla 2\n",
      "Netherlands 96\n",
      "Mauritius 20\n",
      "Jamaica 163\n",
      "Peru 28\n",
      "Martinique 105\n",
      "Puerto Rico 10\n",
      "Dominican Republic 39\n",
      "Guyana 129\n",
      "Panama 41\n",
      "Malta 5\n",
      "Sweden 95\n",
      "Finland 21\n",
      "India 57\n",
      "Taiwan 48\n",
      "Guatemala 19\n",
      "Nicaragua 16\n",
      "Haiti 23\n",
      "Slovakia 33\n",
      "Tunisia 2\n",
      "Guadeloupe 45\n",
      "Norway 17\n",
      "Fiji 18\n",
      "Grenada 10\n",
      "Iceland 2\n",
      "Armenia 27\n",
      "Russian Federation 5\n",
      "Bermuda 5\n",
      "Montenegro 1\n",
      "Belgium 43\n",
      "Belize 16\n",
      "Costa Rica 2\n",
      "Philippines  6\n",
      "Antigua and Barbuda 4\n",
      "Reunion 17\n",
      "Serbia 13\n",
      "Cambodia 1\n",
      "Curacao 1\n",
      "Indonesia 1\n",
      "Guernsey 1\n",
      "Kenya 6\n",
      "Republic of Korea 1\n",
      "Seychelles 5\n",
      "Bosnia and Herzegovina 7\n",
      "El Salvador 1\n",
      "Ecuador 1\n",
      "Albania 1\n",
      "Nigeria 1\n",
      "Vietnam 1\n"
     ]
    }
   ],
   "source": [
    "for country, wine_count in number_of_wines.items():\n",
    "    print(country,wine_count)"
   ]
  },
  {
   "cell_type": "code",
   "execution_count": 16,
   "metadata": {},
   "outputs": [],
   "source": [
    "countries = np.array(list(number_of_wines.keys()))\n",
    "counts = np.array(list(number_of_wines.values()))"
   ]
  },
  {
   "cell_type": "code",
   "execution_count": 22,
   "metadata": {},
   "outputs": [
    {
     "data": {
      "text/plain": [
       "array(['France', 'Australia', 'United States', 'Italy', 'United Kingdom'],\n",
       "      dtype='<U32')"
      ]
     },
     "execution_count": 22,
     "metadata": {},
     "output_type": "execute_result"
    }
   ],
   "source": [
    "top_countries = countries[np.where(counts>10000)]\n",
    "top_countries"
   ]
  },
  {
   "cell_type": "code",
   "execution_count": 35,
   "metadata": {},
   "outputs": [
    {
     "data": {
      "text/plain": [
       "<Axes: >"
      ]
     },
     "execution_count": 35,
     "metadata": {},
     "output_type": "execute_result"
    },
    {
     "data": {
      "image/png": "[encoded data removed]",
      "text/plain": [
       "<Figure size 640x480 with 1 Axes>"
      ]
     },
     "metadata": {},
     "output_type": "display_data"
    }
   ],
   "source": [
    "top5= [i in top_countries for i in df['COUNTRY']]\n",
    "df[top5]['COUNTRY'].hist()"
   ]
  },
  {
   "cell_type": "code",
   "execution_count": 25,
   "metadata": {},
   "outputs": [
    {
     "name": "stdout",
     "output_type": "stream",
     "text": [
      "1\n"
     ]
    }
   ],
   "source": [
    "print(1)"
   ]
  },
  {
   "cell_type": "code",
   "execution_count": null,
   "metadata": {},
   "outputs": [],
   "source": []
  }
 ],
 "metadata": {
  "kernelspec": {
   "display_name": "wechat",
   "language": "python",
   "name": "python3"
  },
  "language_info": {
   "codemirror_mode": {
    "name": "ipython",
    "version": 3
   },
   "file_extension": ".py",
   "mimetype": "text/x-python",
   "name": "python",
   "nbconvert_exporter": "python",
   "pygments_lexer": "ipython3",
   "version": "3.12.2"
  }
 },
 "nbformat": 4,
 "nbformat_minor": 2
}
